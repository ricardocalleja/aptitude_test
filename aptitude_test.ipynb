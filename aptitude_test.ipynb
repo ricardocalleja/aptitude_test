{
 "cells": [
  {
   "cell_type": "markdown",
   "id": "42cbc6da-df07-4def-a624-86469150b6fe",
   "metadata": {},
   "source": [
    "### 01_Build a classification model (Deep learning preferred)."
   ]
  },
  {
   "cell_type": "markdown",
   "id": "c4564cf5-34aa-48d7-8bae-9dda4cf64837",
   "metadata": {},
   "source": [
    "Install and import libraries"
   ]
  },
  {
   "cell_type": "code",
   "execution_count": 1,
   "id": "bdacbfbb-8b9e-4ceb-b494-42db9cf7a26a",
   "metadata": {},
   "outputs": [],
   "source": [
    "#!pip install fastai\n",
    "#!pip install ipywidgets\n",
    "#!pip install fastbook\n",
    "from fastai.vision.all import *\n",
    "from fastai.vision.widgets import *\n",
    "from fastbook import *\n",
    "from fastai.vision.widgets import *"
   ]
  },
  {
   "cell_type": "markdown",
   "id": "8a25b600-d5fd-4886-95da-d24f31e98b94",
   "metadata": {},
   "source": [
    "Now lets create an iamge classifier using fastai (I copied and paste the code from fastai, just changing the requested categories)"
   ]
  },
  {
   "cell_type": "code",
   "execution_count": 2,
   "id": "72b06aee-78db-4a7a-9a06-41c0c3260695",
   "metadata": {},
   "outputs": [],
   "source": [
    "bear_types = 'Bed','Chair','Sofa'\n",
    "path = Path('Aptitude Test')\n",
    "fns = get_image_files(path)\n",
    "failed = verify_images(fns)\n",
    "failed.map(Path.unlink);"
   ]
  },
  {
   "cell_type": "code",
   "execution_count": 3,
   "id": "65aa6ed3-1da4-40b7-aa52-7abbda1e8fe2",
   "metadata": {},
   "outputs": [],
   "source": [
    "bears = DataBlock(\n",
    "    blocks=(ImageBlock, CategoryBlock), \n",
    "    get_items=get_image_files, \n",
    "    splitter=RandomSplitter(valid_pct=0.2, seed=42),\n",
    "    get_y=parent_label,\n",
    "    item_tfms=Resize(128))"
   ]
  },
  {
   "cell_type": "code",
   "execution_count": 4,
   "id": "b20e073a-7ef0-42f9-8716-e60e327885e1",
   "metadata": {},
   "outputs": [],
   "source": [
    "dls = bears.dataloaders(path)"
   ]
  },
  {
   "cell_type": "code",
   "execution_count": 5,
   "id": "539532f5-5f50-4468-8519-fb148009ceb1",
   "metadata": {},
   "outputs": [],
   "source": [
    "# dls.valid.show_batch(max_n=4, nrows=1)"
   ]
  },
  {
   "cell_type": "code",
   "execution_count": 6,
   "id": "5c501fdf-3ef6-4065-b041-894d1177694e",
   "metadata": {},
   "outputs": [],
   "source": [
    "# bears = bears.new(item_tfms=Resize(128, ResizeMethod.Squish))\n",
    "# dls = bears.dataloaders(path)\n",
    "# dls.valid.show_batch(max_n=4, nrows=1)"
   ]
  },
  {
   "cell_type": "code",
   "execution_count": 7,
   "id": "d416b7b5-8f83-458e-ab0b-eadea6b7382a",
   "metadata": {},
   "outputs": [],
   "source": [
    "# bears = bears.new(item_tfms=Resize(128, ResizeMethod.Pad, pad_mode='zeros'))\n",
    "# dls = bears.dataloaders(path)\n",
    "# dls.valid.show_batch(max_n=4, nrows=1)"
   ]
  },
  {
   "cell_type": "code",
   "execution_count": 8,
   "id": "a9713356-f6f2-490d-bd0e-4871a4978d85",
   "metadata": {},
   "outputs": [],
   "source": [
    "# bears = bears.new(item_tfms=RandomResizedCrop(128, min_scale=0.3))\n",
    "# dls = bears.dataloaders(path)\n",
    "# dls.train.show_batch(max_n=4, nrows=1, unique=True)"
   ]
  },
  {
   "cell_type": "code",
   "execution_count": 9,
   "id": "f5836455-c23a-4864-9224-2e50d1c8298b",
   "metadata": {},
   "outputs": [],
   "source": [
    "# bears = bears.new(item_tfms=Resize(128), batch_tfms=aug_transforms(mult=2))\n",
    "# dls = bears.dataloaders(path)\n",
    "# dls.train.show_batch(max_n=8, nrows=2, unique=True)"
   ]
  },
  {
   "cell_type": "code",
   "execution_count": 10,
   "id": "67c4523b-f356-4e51-a9a2-a919be0b82ae",
   "metadata": {},
   "outputs": [],
   "source": [
    "bears = bears.new(\n",
    "    item_tfms=RandomResizedCrop(224, min_scale=0.5),\n",
    "    batch_tfms=aug_transforms())\n",
    "dls = bears.dataloaders(path)"
   ]
  },
  {
   "cell_type": "code",
   "execution_count": 11,
   "id": "60c6c1b3-e1e3-46d3-980e-feaec68a253e",
   "metadata": {},
   "outputs": [],
   "source": [
    "learn = vision_learner(dls, resnet18, metrics=error_rate)\n",
    "learn.fine_tune(4)"
   ]
  },
  {
   "cell_type": "code",
   "execution_count": 12,
   "id": "7121a63a-ee51-4a08-8754-db4c7a680638",
   "metadata": {},
   "outputs": [
    {
     "ename": "NameError",
     "evalue": "name 'learn' is not defined",
     "output_type": "error",
     "traceback": [
      "\u001b[1;31m---------------------------------------------------------------------------\u001b[0m",
      "\u001b[1;31mNameError\u001b[0m                                 Traceback (most recent call last)",
      "Cell \u001b[1;32mIn[12], line 1\u001b[0m\n\u001b[1;32m----> 1\u001b[0m interp \u001b[38;5;241m=\u001b[39m ClassificationInterpretation\u001b[38;5;241m.\u001b[39mfrom_learner(\u001b[43mlearn\u001b[49m)\n\u001b[0;32m      2\u001b[0m interp\u001b[38;5;241m.\u001b[39mplot_confusion_matrix()\n",
      "\u001b[1;31mNameError\u001b[0m: name 'learn' is not defined"
     ]
    }
   ],
   "source": [
    "interp = ClassificationInterpretation.from_learner(learn)\n",
    "interp.plot_confusion_matrix()"
   ]
  },
  {
   "cell_type": "code",
   "execution_count": null,
   "id": "e166363e-5b22-4595-8b45-1dea7a6beb5d",
   "metadata": {},
   "outputs": [],
   "source": [
    "# interp.plot_top_losses(5, nrows=1)\n"
   ]
  },
  {
   "cell_type": "code",
   "execution_count": null,
   "id": "b8256ee3-1904-4c32-8acd-1fa73dec6763",
   "metadata": {},
   "outputs": [],
   "source": [
    "#hide_output\n",
    "# cleaner = ImageClassifierCleaner(learn)\n",
    "# cleaner"
   ]
  },
  {
   "cell_type": "code",
   "execution_count": null,
   "id": "70de17dc-60e6-4565-89b4-d62d0ea2207d",
   "metadata": {},
   "outputs": [],
   "source": [
    "# for idx in cleaner.delete(): cleaner.fns[idx].unlink()\n",
    "# for idx,cat in cleaner.change(): shutil.move(str(cleaner.fns[idx]), path/cat)"
   ]
  },
  {
   "cell_type": "code",
   "execution_count": 13,
   "id": "f1b96c30-3683-4aa9-874a-2f6e3428571e",
   "metadata": {},
   "outputs": [],
   "source": [
    "learn.export()\n"
   ]
  },
  {
   "cell_type": "code",
   "execution_count": 14,
   "id": "dcc90191-8f66-4773-ac26-d33b6f42fe9d",
   "metadata": {},
   "outputs": [
    {
     "data": {
      "text/plain": [
       "(#1) [Path('export.pkl')]"
      ]
     },
     "execution_count": 14,
     "metadata": {},
     "output_type": "execute_result"
    }
   ],
   "source": [
    "\n",
    "path = Path()\n",
    "path.ls(file_exts='.pkl')"
   ]
  },
  {
   "cell_type": "code",
   "execution_count": 15,
   "id": "b84d3f49-d0ba-4612-a0b2-667282813d85",
   "metadata": {},
   "outputs": [],
   "source": [
    "learn_inf = load_learner(path/'export.pkl')\n"
   ]
  },
  {
   "cell_type": "code",
   "execution_count": 16,
   "id": "a468df3b-8946-46f8-98bc-a10cd98ad8d9",
   "metadata": {},
   "outputs": [
    {
     "data": {
      "text/html": [
       "\n",
       "<style>\n",
       "    /* Turns off some styling */\n",
       "    progress {\n",
       "        /* gets rid of default border in Firefox and Opera. */\n",
       "        border: none;\n",
       "        /* Needs to be in here for Safari polyfill so background images work as expected. */\n",
       "        background-size: auto;\n",
       "    }\n",
       "    progress:not([value]), progress:not([value])::-webkit-progress-bar {\n",
       "        background: repeating-linear-gradient(45deg, #7e7e7e, #7e7e7e 10px, #5c5c5c 10px, #5c5c5c 20px);\n",
       "    }\n",
       "    .progress-bar-interrupted, .progress-bar-interrupted::-webkit-progress-bar {\n",
       "        background: #F44336;\n",
       "    }\n",
       "</style>\n"
      ],
      "text/plain": [
       "<IPython.core.display.HTML object>"
      ]
     },
     "metadata": {},
     "output_type": "display_data"
    },
    {
     "data": {
      "text/html": [],
      "text/plain": [
       "<IPython.core.display.HTML object>"
      ]
     },
     "metadata": {},
     "output_type": "display_data"
    },
    {
     "data": {
      "text/plain": [
       "('Sofa', TensorBase(2), TensorBase([8.8309e-04, 9.7475e-05, 9.9902e-01]))"
      ]
     },
     "execution_count": 16,
     "metadata": {},
     "output_type": "execute_result"
    }
   ],
   "source": [
    "learn_inf.predict(path/'Aptitude Test/ricardo_sofa_test.jpg')#OneDrive - St. Clair College/DAB 200/Aptitude Test/Aptitude Test/ricardo_sofa_test.jpg\n"
   ]
  },
  {
   "cell_type": "code",
   "execution_count": null,
   "id": "4e813cf2-f4f4-4091-a60a-1e182d560faa",
   "metadata": {},
   "outputs": [],
   "source": [
    "#It works! yeah!"
   ]
  },
  {
   "cell_type": "code",
   "execution_count": null,
   "id": "366a8688-4691-4e67-9467-612cd09cd6cc",
   "metadata": {},
   "outputs": [],
   "source": [
    "learn_inf.dls.vocab\n"
   ]
  },
  {
   "cell_type": "markdown",
   "id": "09daf369-8873-43bc-bd1e-15c272768f25",
   "metadata": {},
   "source": [
    "### 02_Build an API to access the model (Preferred frameworks based on Python)"
   ]
  },
  {
   "cell_type": "markdown",
   "id": "a18fc8bd-5384-47ad-9df7-b35997c4e238",
   "metadata": {},
   "source": [
    "I was not able to deploy it as an app, I tried https://huggingface.co/spaces/ricardocalleja/aptitude_test but it did not worked."
   ]
  },
  {
   "cell_type": "markdown",
   "id": "d95e6209-7bbc-470f-8aa0-2e8384ba3526",
   "metadata": {},
   "source": [
    "### 03_Create a Docker image of your code by following docker best practices.\n",
    "\n"
   ]
  },
  {
   "cell_type": "markdown",
   "id": "9c058693-0a9f-4b8a-b2e5-b25342c52918",
   "metadata": {},
   "source": [
    "See Dockerfile, with that I used ```docker build -t my-image .```\n"
   ]
  },
  {
   "cell_type": "markdown",
   "id": "18aadc1b-fe83-4e1b-b09f-5551fcbe024c",
   "metadata": {},
   "source": [
    "### 04_Implement CI/CD pipeline on Github Actions.\n"
   ]
  },
  {
   "cell_type": "markdown",
   "id": "6040450d-4aba-4b49-928c-b94400a57d09",
   "metadata": {},
   "source": [
    "I am not yet familiar with Github Actions"
   ]
  },
  {
   "cell_type": "markdown",
   "id": "f18ad612-79ce-46d6-a68f-27356c551da7",
   "metadata": {},
   "source": [
    "### 05_Add a clear README file with instructions.\n",
    "\n"
   ]
  },
  {
   "cell_type": "code",
   "execution_count": null,
   "id": "3e537630-fa06-4403-9a40-f7e5df4ac09b",
   "metadata": {},
   "outputs": [],
   "source": []
  }
 ],
 "metadata": {
  "kernelspec": {
   "display_name": "Python 3 (ipykernel)",
   "language": "python",
   "name": "python3"
  },
  "language_info": {
   "codemirror_mode": {
    "name": "ipython",
    "version": 3
   },
   "file_extension": ".py",
   "mimetype": "text/x-python",
   "name": "python",
   "nbconvert_exporter": "python",
   "pygments_lexer": "ipython3",
   "version": "3.10.8"
  }
 },
 "nbformat": 4,
 "nbformat_minor": 5
}
